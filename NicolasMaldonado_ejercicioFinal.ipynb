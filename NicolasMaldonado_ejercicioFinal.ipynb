{
  "cells": [
    {
      "metadata": {
        "_uuid": "8f2839f25d086af736a60e9eeb907d3b93b6e0e5",
        "_cell_guid": "b1076dfc-b9ad-4769-8c92-a6c4dae69d19",
        "trusted": true
      },
      "cell_type": "code",
      "source": "import numpy as np\nimport pandas as pd\nimport os\nprint(os.listdir(\"../input\"))\nfrom sklearn import preprocessing\nfrom sklearn.model_selection import train_test_split\nfrom sklearn.tree import DecisionTreeClassifier\nfrom sklearn.model_selection import cross_val_score",
      "execution_count": 42,
      "outputs": [
        {
          "output_type": "stream",
          "text": "['SurveySchema.csv', 'freeFormResponses.csv', 'multipleChoiceResponses.csv']\n",
          "name": "stdout"
        }
      ]
    },
    {
      "metadata": {
        "_cell_guid": "79c7e3d0-c299-4dcb-8224-4455121ee9b0",
        "_uuid": "d629ff2d2480ee46fbb7e2d37f6b5fab8052498a",
        "trusted": true
      },
      "cell_type": "code",
      "source": "data = pd.read_csv(\"../input/multipleChoiceResponses.csv\", low_memory=False)\ndata = data[['Q1','Q2','Q3','Q4','Q5','Q8','Q24','Q25','Q26']]\ndata = data[data.Q5 == 'Physics or astronomy']\ndata = data.dropna()",
      "execution_count": 30,
      "outputs": []
    },
    {
      "metadata": {
        "trusted": true,
        "_uuid": "881b5accd5a1ebc24e8451728e3ab924469f5b35"
      },
      "cell_type": "code",
      "source": "X = data[['Q1','Q2','Q3','Q4','Q8','Q24','Q25']]\nY = data[['Q26']]\nX = np.array(X)\nY = np.array(Y)\n\nle = preprocessing.LabelEncoder()\nfor i in range(7):\n    Xt = X[:,i]\n    X[:,i] = le.fit_transform(Xt)",
      "execution_count": 51,
      "outputs": []
    },
    {
      "metadata": {
        "trusted": true,
        "scrolled": false,
        "_uuid": "e6640c2635a92607d73edf5473bc5a02b8098dd3"
      },
      "cell_type": "code",
      "source": "X_train, X_test, Y_train, Y_test = train_test_split(X, Y, test_size=0.33, random_state=42)",
      "execution_count": 52,
      "outputs": []
    },
    {
      "metadata": {
        "trusted": true,
        "_uuid": "9c2537d6edc3d7213364304a40cce6027852e65a"
      },
      "cell_type": "code",
      "source": "predictors = ['Q1','Q2','Q3','Q4','Q8','Q24','Q25','Q1+Q2','Q1+Q2+Q3','Q1+Q2+Q3+Q4','Q1+Q2+Q3+Q4+Q8','Q1+Q2+Q3+Q4+Q8+Q24','Q1+Q2+Q3+Q4+Q8+Q24+Q25','Q2+Q3','Q2+Q3+Q4','Q2+Q3+Q4+Q8','Q2+Q3+Q4+Q8+Q24','Q2+Q3+Q4+Q8+Q24+Q25','Q3+Q4','Q3+Q4+Q8','Q3+Q4+Q8+Q24','Q3+Q4+Q8+Q24+Q25','Q4+Q8','Q4+Q8+Q24','Q4+Q8+Q24+Q25','Q8+Q24','Q8+Q24+Q25','Q24+Q25','Q1+Q3','Q1+Q3+Q8','Q1+Q3+Q8+Q25','Q2+Q4','Q2+Q4+Q24','Q3+Q8','Q3+Q8+Q25','Q4+Q24','Q8+Q25','Q1+Q4','Q1+Q4+Q25','Q2+Q8','Q3+Q24','Q4+Q25','Q1+Q8','Q2+Q24','Q3+Q25','Q1+Q24','Q2+Q25','Q1+Q25']\nscore = np.zeros(len(predictors))\np = 0\n\nfor i in range(7):\n    clf = DecisionTreeClassifier(random_state=0)\n    X_train_t = X_train[:,i].reshape(-1, 1)\n    X_test_t = X_test[:,i].reshape(-1, 1)\n    clf.fit(X_train_t, Y_train)\n    score[p] = clf.score(X_test_t, Y_test)\n    p += 1\n\nfor i in range(7):\n    for j in range(i+1,7):\n        clf = DecisionTreeClassifier(random_state=0)\n        X_train_t = X_train[:,i:j]\n        X_test_t = X_test[:,i:j]\n        clf.fit(X_train_t, Y_train)\n        score[p] = clf.score(X_test_t, Y_test)\n        p += 1\n        \nfor i in range(7):\n    for j in range(i+2,7,2):\n        clf = DecisionTreeClassifier(random_state=0)\n        X_train_t = X_train[:,i:j:2]\n        X_test_t = X_test[:,i:j:2]\n        clf.fit(X_train_t, Y_train)\n        score[p] = clf.score(X_test_t, Y_test)\n        p += 1\n        \nfor i in range(7):\n    for j in range(i+3,7,3):\n        clf = DecisionTreeClassifier(random_state=0)\n        X_train_t = X_train[:,i:j:3]\n        X_test_t = X_test[:,i:j:3]\n        clf.fit(X_train_t, Y_train)\n        score[p] = clf.score(X_test_t, Y_test)\n        p += 1\n        \nfor i in range(7):\n    for j in range(i+4,7,4):\n        clf = DecisionTreeClassifier(random_state=0)\n        X_train_t = X_train[:,i:j:4]\n        X_test_t = X_test[:,i:j:4]\n        clf.fit(X_train_t, Y_train)\n        score[p] = clf.score(X_test_t, Y_test)\n        p += 1\n        \nfor i in range(7):\n    for j in range(i+5,7,5):\n        clf = DecisionTreeClassifier(random_state=0)\n        X_train_t = X_train[:,i:j:5]\n        X_test_t = X_test[:,i:j:5]\n        clf.fit(X_train_t, Y_train)\n        score[p] = clf.score(X_test_t, Y_test)\n        p += 1\n        \nfor i in range(7):\n    for j in range(i+6,7,6):\n        clf = DecisionTreeClassifier(random_state=0)\n        X_train_t = X_train[:,i:j:6]\n        X_test_t = X_test[:,i:j:6]\n        clf.fit(X_train_t, Y_train)\n        score[p] = clf.score(X_test_t, Y_test)\n        p += 1",
      "execution_count": 89,
      "outputs": []
    },
    {
      "metadata": {
        "trusted": true,
        "_uuid": "19786bce3a566ff050f533bad72e50955d001a73"
      },
      "cell_type": "code",
      "source": "print(score)",
      "execution_count": 90,
      "outputs": [
        {
          "output_type": "stream",
          "text": "[0.41414141 0.42760943 0.40740741 0.42087542 0.39393939 0.41750842\n 0.42087542 0.41414141 0.42424242 0.36700337 0.37373737 0.33670034\n 0.34343434 0.42760943 0.39057239 0.37710438 0.32996633 0.35016835\n 0.40740741 0.3973064  0.35353535 0.30976431 0.42087542 0.38383838\n 0.32323232 0.39393939 0.37373737 0.41750842 0.41414141 0.39057239\n 0.36363636 0.42760943 0.42087542 0.40740741 0.38720539 0.42087542\n 0.39393939 0.41414141 0.39393939 0.42760943 0.40740741 0.42087542\n 0.41414141 0.42760943 0.40740741 0.41414141 0.42760943 0.41414141]\n",
          "name": "stdout"
        }
      ]
    },
    {
      "metadata": {
        "trusted": true,
        "_uuid": "e4c16042da03d6953432ead2291b5f91695b9b33"
      },
      "cell_type": "code",
      "source": "args = np.argsort(score)\n\nprint('The best predictors are (in ascending order):')\nfor i in range(len(predictors)):\n    stn = predictors[args[i]] + ' with a score of ' + str(score[args[i]])\n    print(stn)",
      "execution_count": 102,
      "outputs": [
        {
          "output_type": "stream",
          "text": "The best predictors are (in ascending order):\nQ3+Q4+Q8+Q24+Q25 with a score of 0.30976430976430974\nQ4+Q8+Q24+Q25 with a score of 0.32323232323232326\nQ2+Q3+Q4+Q8+Q24 with a score of 0.32996632996632996\nQ1+Q2+Q3+Q4+Q8+Q24 with a score of 0.3367003367003367\nQ1+Q2+Q3+Q4+Q8+Q24+Q25 with a score of 0.3434343434343434\nQ2+Q3+Q4+Q8+Q24+Q25 with a score of 0.3501683501683502\nQ3+Q4+Q8+Q24 with a score of 0.35353535353535354\nQ1+Q3+Q8+Q25 with a score of 0.36363636363636365\nQ1+Q2+Q3+Q4 with a score of 0.367003367003367\nQ8+Q24+Q25 with a score of 0.37373737373737376\nQ1+Q2+Q3+Q4+Q8 with a score of 0.37373737373737376\nQ2+Q3+Q4+Q8 with a score of 0.3771043771043771\nQ4+Q8+Q24 with a score of 0.3838383838383838\nQ3+Q8+Q25 with a score of 0.3872053872053872\nQ2+Q3+Q4 with a score of 0.39057239057239057\nQ1+Q3+Q8 with a score of 0.39057239057239057\nQ1+Q4+Q25 with a score of 0.3939393939393939\nQ8 with a score of 0.3939393939393939\nQ8+Q24 with a score of 0.3939393939393939\nQ8+Q25 with a score of 0.3939393939393939\nQ3+Q4+Q8 with a score of 0.39730639730639733\nQ3+Q24 with a score of 0.4074074074074074\nQ3+Q4 with a score of 0.4074074074074074\nQ3+Q25 with a score of 0.4074074074074074\nQ3+Q8 with a score of 0.4074074074074074\nQ3 with a score of 0.4074074074074074\nQ1+Q4 with a score of 0.41414141414141414\nQ1+Q8 with a score of 0.41414141414141414\nQ1+Q24 with a score of 0.41414141414141414\nQ1 with a score of 0.41414141414141414\nQ1+Q2 with a score of 0.41414141414141414\nQ1+Q3 with a score of 0.41414141414141414\nQ1+Q25 with a score of 0.41414141414141414\nQ24 with a score of 0.4175084175084175\nQ24+Q25 with a score of 0.4175084175084175\nQ4+Q8 with a score of 0.4208754208754209\nQ4+Q24 with a score of 0.4208754208754209\nQ25 with a score of 0.4208754208754209\nQ4+Q25 with a score of 0.4208754208754209\nQ4 with a score of 0.4208754208754209\nQ2+Q4+Q24 with a score of 0.4208754208754209\nQ1+Q2+Q3 with a score of 0.42424242424242425\nQ2+Q25 with a score of 0.4276094276094276\nQ2+Q3 with a score of 0.4276094276094276\nQ2+Q4 with a score of 0.4276094276094276\nQ2+Q8 with a score of 0.4276094276094276\nQ2+Q24 with a score of 0.4276094276094276\nQ2 with a score of 0.4276094276094276\n",
          "name": "stdout"
        }
      ]
    },
    {
      "metadata": {
        "trusted": true,
        "_uuid": "2d6ed354e2f46d8c9c2d3d106b25da4207f5547a"
      },
      "cell_type": "code",
      "source": "",
      "execution_count": null,
      "outputs": []
    }
  ],
  "metadata": {
    "kernelspec": {
      "display_name": "Python 3",
      "language": "python",
      "name": "python3"
    },
    "language_info": {
      "name": "python",
      "version": "3.6.6",
      "mimetype": "text/x-python",
      "codemirror_mode": {
        "name": "ipython",
        "version": 3
      },
      "pygments_lexer": "ipython3",
      "nbconvert_exporter": "python",
      "file_extension": ".py"
    }
  },
  "nbformat": 4,
  "nbformat_minor": 1
}